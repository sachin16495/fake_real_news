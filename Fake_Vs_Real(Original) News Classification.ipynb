{
 "cells": [
  {
   "cell_type": "code",
   "execution_count": 4,
   "metadata": {},
   "outputs": [],
   "source": [
    "import pandas as pd\n",
    "import os\n",
    "import seaborn\n",
    "from wordcloud import WordCloud, STOPWORDS\n",
    "import tensorflow as tf\n",
    "from sklearn.model_selection import train_test_split\n",
    "import numpy as np\n",
    "import nltk\n",
    "from nltk.tokenize import word_tokenize\n",
    "from nltk.tokenize import sent_tokenize\n",
    "from nltk.stem import WordNetLemmatizer \n",
    "from nltk.corpus import stopwords\n",
    "import nltk\n",
    "import string"
   ]
  },
  {
   "cell_type": "markdown",
   "metadata": {},
   "source": [
    "The current problem statement is a classification problemm in which we have to classify the wether the text is fake or not.We have three significant figure for that which include title,aurthor and text.\n",
    "</br>\n"
   ]
  },
  {
   "cell_type": "markdown",
   "metadata": {},
   "source": []
  },
  {
   "cell_type": "code",
   "execution_count": 19,
   "metadata": {},
   "outputs": [],
   "source": []
  },
  {
   "cell_type": "code",
   "execution_count": 2,
   "metadata": {},
   "outputs": [
    {
     "data": {
      "text/plain": [
       "['submit.csv', 'test.csv', 'Untitled.ipynb', '.ipynb_checkpoints', 'train.csv']"
      ]
     },
     "execution_count": 2,
     "metadata": {},
     "output_type": "execute_result"
    }
   ],
   "source": [
    "os.listdir()"
   ]
  },
  {
   "cell_type": "code",
   "execution_count": 5,
   "metadata": {},
   "outputs": [],
   "source": [
    "train_df=pd.read_csv(\"train.csv\")\n",
    "test_df=pd.read_csv(\"test.csv\")"
   ]
  },
  {
   "cell_type": "code",
   "execution_count": 4,
   "metadata": {},
   "outputs": [
    {
     "data": {
      "text/html": [
       "<div>\n",
       "<style scoped>\n",
       "    .dataframe tbody tr th:only-of-type {\n",
       "        vertical-align: middle;\n",
       "    }\n",
       "\n",
       "    .dataframe tbody tr th {\n",
       "        vertical-align: top;\n",
       "    }\n",
       "\n",
       "    .dataframe thead th {\n",
       "        text-align: right;\n",
       "    }\n",
       "</style>\n",
       "<table border=\"1\" class=\"dataframe\">\n",
       "  <thead>\n",
       "    <tr style=\"text-align: right;\">\n",
       "      <th></th>\n",
       "      <th>id</th>\n",
       "      <th>title</th>\n",
       "      <th>author</th>\n",
       "      <th>text</th>\n",
       "      <th>label</th>\n",
       "    </tr>\n",
       "  </thead>\n",
       "  <tbody>\n",
       "    <tr>\n",
       "      <th>0</th>\n",
       "      <td>0</td>\n",
       "      <td>House Dem Aide: We Didn’t Even See Comey’s Let...</td>\n",
       "      <td>Darrell Lucus</td>\n",
       "      <td>House Dem Aide: We Didn’t Even See Comey’s Let...</td>\n",
       "      <td>1</td>\n",
       "    </tr>\n",
       "    <tr>\n",
       "      <th>1</th>\n",
       "      <td>1</td>\n",
       "      <td>FLYNN: Hillary Clinton, Big Woman on Campus - ...</td>\n",
       "      <td>Daniel J. Flynn</td>\n",
       "      <td>Ever get the feeling your life circles the rou...</td>\n",
       "      <td>0</td>\n",
       "    </tr>\n",
       "    <tr>\n",
       "      <th>2</th>\n",
       "      <td>2</td>\n",
       "      <td>Why the Truth Might Get You Fired</td>\n",
       "      <td>Consortiumnews.com</td>\n",
       "      <td>Why the Truth Might Get You Fired October 29, ...</td>\n",
       "      <td>1</td>\n",
       "    </tr>\n",
       "    <tr>\n",
       "      <th>3</th>\n",
       "      <td>3</td>\n",
       "      <td>15 Civilians Killed In Single US Airstrike Hav...</td>\n",
       "      <td>Jessica Purkiss</td>\n",
       "      <td>Videos 15 Civilians Killed In Single US Airstr...</td>\n",
       "      <td>1</td>\n",
       "    </tr>\n",
       "    <tr>\n",
       "      <th>4</th>\n",
       "      <td>4</td>\n",
       "      <td>Iranian woman jailed for fictional unpublished...</td>\n",
       "      <td>Howard Portnoy</td>\n",
       "      <td>Print \\nAn Iranian woman has been sentenced to...</td>\n",
       "      <td>1</td>\n",
       "    </tr>\n",
       "  </tbody>\n",
       "</table>\n",
       "</div>"
      ],
      "text/plain": [
       "   id                                              title              author  \\\n",
       "0   0  House Dem Aide: We Didn’t Even See Comey’s Let...       Darrell Lucus   \n",
       "1   1  FLYNN: Hillary Clinton, Big Woman on Campus - ...     Daniel J. Flynn   \n",
       "2   2                  Why the Truth Might Get You Fired  Consortiumnews.com   \n",
       "3   3  15 Civilians Killed In Single US Airstrike Hav...     Jessica Purkiss   \n",
       "4   4  Iranian woman jailed for fictional unpublished...      Howard Portnoy   \n",
       "\n",
       "                                                text  label  \n",
       "0  House Dem Aide: We Didn’t Even See Comey’s Let...      1  \n",
       "1  Ever get the feeling your life circles the rou...      0  \n",
       "2  Why the Truth Might Get You Fired October 29, ...      1  \n",
       "3  Videos 15 Civilians Killed In Single US Airstr...      1  \n",
       "4  Print \\nAn Iranian woman has been sentenced to...      1  "
      ]
     },
     "execution_count": 4,
     "metadata": {},
     "output_type": "execute_result"
    }
   ],
   "source": [
    "train_df.head()"
   ]
  },
  {
   "cell_type": "code",
   "execution_count": 5,
   "metadata": {},
   "outputs": [
    {
     "data": {
      "text/html": [
       "<div>\n",
       "<style scoped>\n",
       "    .dataframe tbody tr th:only-of-type {\n",
       "        vertical-align: middle;\n",
       "    }\n",
       "\n",
       "    .dataframe tbody tr th {\n",
       "        vertical-align: top;\n",
       "    }\n",
       "\n",
       "    .dataframe thead th {\n",
       "        text-align: right;\n",
       "    }\n",
       "</style>\n",
       "<table border=\"1\" class=\"dataframe\">\n",
       "  <thead>\n",
       "    <tr style=\"text-align: right;\">\n",
       "      <th></th>\n",
       "      <th>id</th>\n",
       "      <th>title</th>\n",
       "      <th>author</th>\n",
       "      <th>text</th>\n",
       "    </tr>\n",
       "  </thead>\n",
       "  <tbody>\n",
       "    <tr>\n",
       "      <th>0</th>\n",
       "      <td>20800</td>\n",
       "      <td>Specter of Trump Loosens Tongues, if Not Purse...</td>\n",
       "      <td>David Streitfeld</td>\n",
       "      <td>PALO ALTO, Calif.  —   After years of scorning...</td>\n",
       "    </tr>\n",
       "    <tr>\n",
       "      <th>1</th>\n",
       "      <td>20801</td>\n",
       "      <td>Russian warships ready to strike terrorists ne...</td>\n",
       "      <td>NaN</td>\n",
       "      <td>Russian warships ready to strike terrorists ne...</td>\n",
       "    </tr>\n",
       "    <tr>\n",
       "      <th>2</th>\n",
       "      <td>20802</td>\n",
       "      <td>#NoDAPL: Native American Leaders Vow to Stay A...</td>\n",
       "      <td>Common Dreams</td>\n",
       "      <td>Videos #NoDAPL: Native American Leaders Vow to...</td>\n",
       "    </tr>\n",
       "    <tr>\n",
       "      <th>3</th>\n",
       "      <td>20803</td>\n",
       "      <td>Tim Tebow Will Attempt Another Comeback, This ...</td>\n",
       "      <td>Daniel Victor</td>\n",
       "      <td>If at first you don’t succeed, try a different...</td>\n",
       "    </tr>\n",
       "    <tr>\n",
       "      <th>4</th>\n",
       "      <td>20804</td>\n",
       "      <td>Keiser Report: Meme Wars (E995)</td>\n",
       "      <td>Truth Broadcast Network</td>\n",
       "      <td>42 mins ago 1 Views 0 Comments 0 Likes 'For th...</td>\n",
       "    </tr>\n",
       "  </tbody>\n",
       "</table>\n",
       "</div>"
      ],
      "text/plain": [
       "      id                                              title  \\\n",
       "0  20800  Specter of Trump Loosens Tongues, if Not Purse...   \n",
       "1  20801  Russian warships ready to strike terrorists ne...   \n",
       "2  20802  #NoDAPL: Native American Leaders Vow to Stay A...   \n",
       "3  20803  Tim Tebow Will Attempt Another Comeback, This ...   \n",
       "4  20804                    Keiser Report: Meme Wars (E995)   \n",
       "\n",
       "                    author                                               text  \n",
       "0         David Streitfeld  PALO ALTO, Calif.  —   After years of scorning...  \n",
       "1                      NaN  Russian warships ready to strike terrorists ne...  \n",
       "2            Common Dreams  Videos #NoDAPL: Native American Leaders Vow to...  \n",
       "3            Daniel Victor  If at first you don’t succeed, try a different...  \n",
       "4  Truth Broadcast Network  42 mins ago 1 Views 0 Comments 0 Likes 'For th...  "
      ]
     },
     "execution_count": 5,
     "metadata": {},
     "output_type": "execute_result"
    }
   ],
   "source": [
    "test_df.head()"
   ]
  },
  {
   "cell_type": "markdown",
   "metadata": {},
   "source": [
    "Here is the distribution of the Fake and real News which the data is almost balance in this case with the "
   ]
  },
  {
   "cell_type": "code",
   "execution_count": 6,
   "metadata": {},
   "outputs": [
    {
     "data": {
      "text/plain": [
       "1    10413\n",
       "0    10387\n",
       "Name: label, dtype: int64"
      ]
     },
     "execution_count": 6,
     "metadata": {},
     "output_type": "execute_result"
    }
   ],
   "source": [
    "train_df['label'].value_counts()"
   ]
  },
  {
   "cell_type": "markdown",
   "metadata": {},
   "source": [
    "Now as per the graphs below there are some specific aurthors who contribute to  fake and real news."
   ]
  },
  {
   "cell_type": "code",
   "execution_count": 8,
   "metadata": {},
   "outputs": [
    {
     "data": {
      "text/plain": [
       "<AxesSubplot:ylabel='author'>"
      ]
     },
     "execution_count": 8,
     "metadata": {},
     "output_type": "execute_result"
    },
    {
     "data": {
      "image/png": "[encoded data removed]",
      "text/plain": [
       "<Figure size 432x288 with 1 Axes>"
      ]
     },
     "metadata": {
      "needs_background": "light"
     },
     "output_type": "display_data"
    }
   ],
   "source": [
    "\n",
    "seaborn.barplot(x=train_df.loc[train_df['label']==0,'author'].value_counts()[0:10].index, y=train_df.loc[train_df['label']==0,'author'].value_counts()[0:10])\n"
   ]
  },
  {
   "cell_type": "code",
   "execution_count": 9,
   "metadata": {},
   "outputs": [
    {
     "data": {
      "text/plain": [
       "<AxesSubplot:ylabel='author'>"
      ]
     },
     "execution_count": 9,
     "metadata": {},
     "output_type": "execute_result"
    },
    {
     "data": {
      "image/png": "[encoded data removed]",
      "text/plain": [
       "<Figure size 432x288 with 1 Axes>"
      ]
     },
     "metadata": {
      "needs_background": "light"
     },
     "output_type": "display_data"
    }
   ],
   "source": [
    "seaborn.barplot(x=train_df.loc[train_df['label']==1,'author'].value_counts()[0:10].index, y=train_df.loc[train_df['label']==0,'author'].value_counts()[0:10])\n"
   ]
  },
  {
   "cell_type": "markdown",
   "metadata": {},
   "source": [
    "Now this the where we clean the text with stopword ,do lemmatization and at last we does cleaning of the text.<br/>\n",
    "<h3>Discription of text cleaning</h3>\n",
    "Remove Stopword <b>:</b> This function remove the stopword from the text.The stop word include is,in for etc.It's required because it remove<br>\n",
    "       Lematization<b>:</b> This function provide Lematization feature in which we remove some try normalized text token so that two word with similary meaning can cosider same for modeling .<br>\n",
    "       Clean Text<b>:</b> In the final text preparation we phase we did cleaning in which we remove the patuation and symobols which are irralavent for modelling.\n",
    "  \n",
    " "
   ]
  },
  {
   "cell_type": "code",
   "execution_count": null,
   "metadata": {},
   "outputs": [],
   "source": [
    "\n",
    "def remove_Stopwords(text ):\n",
    "    stop_words = set(stopwords.words('english')) \n",
    "    words = word_tokenize( text.lower() ) \n",
    "    sentence = [w for w in words if not w in stop_words]\n",
    "    return \" \".join(sentence)\n",
    "    \n",
    "def lemmatize_text(text):\n",
    "    wordlist=[]\n",
    "    lemmatizer = WordNetLemmatizer() \n",
    "    sentences=sent_tokenize(text)\n",
    "    for sentence in sentences:\n",
    "        words=word_tokenize(sentence)\n",
    "        for word in words:\n",
    "            wordlist.append(lemmatizer.lemmatize(word))\n",
    "    return ' '.join(wordlist) \n",
    "def clean_text(text ): \n",
    "    delete_dict = {sp_character: '' for sp_character in string.punctuation} \n",
    "    delete_dict[' '] = ' ' \n",
    "    table = str.maketrans(delete_dict)\n",
    "    text1 = text.translate(table)\n",
    "    textArr= text1.split()\n",
    "    text2 = ' '.join([w for w in textArr]) \n",
    "    \n",
    "    return text2.lower()\n",
    "\n"
   ]
  },
  {
   "cell_type": "code",
   "execution_count": 20,
   "metadata": {},
   "outputs": [],
   "source": [
    "\n",
    "train_df['title']=train_df['title'].astype(str)\n",
    "train_df['title']=train_df['title'].apply(remove_Stopwords)\n",
    "train_df['title']=train_df['title'].apply(lemmatize_text)\n",
    "train_df['title']=train_df['title'].apply(clean_text)"
   ]
  },
  {
   "cell_type": "markdown",
   "metadata": {},
   "source": [
    "<h3>Word Cloud</h3>\n",
    "    \n",
    "Below we have plotted two word for the fake and orginal new repectively on title which give the idea on which topic cause lot of fake news and how signigicant the title is intutionnely"
   ]
  },
  {
   "cell_type": "code",
   "execution_count": 232,
   "metadata": {},
   "outputs": [
    {
     "data": {
      "text/plain": [
       "<matplotlib.image.AxesImage at 0x7f3c6b11da30>"
      ]
     },
     "execution_count": 232,
     "metadata": {},
     "output_type": "execute_result"
    },
    {
     "data": {
      "image/png": "[encoded data removed]",
      "text/plain": [
       "<Figure size 432x288 with 2 Axes>"
      ]
     },
     "metadata": {
      "needs_background": "light"
     },
     "output_type": "display_data"
    }
   ],
   "source": [
    "import matplotlib.pyplot as plt\n",
    "\n",
    "fig, axes = plt.subplots(1, 2) \n",
    "\n",
    "\n",
    "wordcloud = WordCloud(background_color=\"white\", max_words=1000, contour_width=3, contour_color='steelblue')\n",
    "long_string = ','.join(list(train_df.loc[(train_df['label']==0),'title'].values))\n",
    "\n",
    "wordcloud.generate(long_string)\n",
    "\n",
    "axes[0].set_title(\"Fake\")\n",
    "axes[0].imshow(wordcloud)\n",
    "#axes[0].annotate(\"First\")\n",
    "\n",
    "\n",
    "wordcloud1 = WordCloud(background_color=\"white\", max_words=1000, contour_width=3, contour_color='steelblue')\n",
    "long_string1 = ','.join(list(train_df.loc[(train_df['label']==1),'title'].values))\n",
    "\n",
    "wordcloud1.generate(long_string1)\n",
    "# Visualize the word cloud\n",
    "\n",
    "axes[1].set_title(\"Original\")\n",
    "axes[1].imshow(wordcloud1)\n"
   ]
  },
  {
   "cell_type": "markdown",
   "metadata": {},
   "source": [
    "Here we have did train test split on the initial label data that was provided with 20% as test data from it."
   ]
  },
  {
   "cell_type": "code",
   "execution_count": 6,
   "metadata": {},
   "outputs": [],
   "source": [
    "from sklearn.model_selection import train_test_split"
   ]
  },
  {
   "cell_type": "code",
   "execution_count": 21,
   "metadata": {},
   "outputs": [],
   "source": [
    "X_train, X_test, y_train, y_test=train_test_split(train_df.drop(columns=\"label\"),train_df['label'],test_size=0.20, random_state=42)"
   ]
  },
  {
   "cell_type": "markdown",
   "metadata": {},
   "source": [
    "As if know we know that all 3 feature play vital role for generation descion boundary will start from Ttitle field and considerd that individually for modeling."
   ]
  },
  {
   "cell_type": "markdown",
   "metadata": {},
   "source": [
    "We use TFidfVectorizer for converting that in vector the reaon why because the title text is small in compare to another columns and there Limited number word which caused the the fake review as we have obseve above in the WordCloud after many iteration"
   ]
  },
  {
   "cell_type": "code",
   "execution_count": 23,
   "metadata": {},
   "outputs": [],
   "source": [
    "from sklearn.feature_extraction.text import TfidfVectorizer\n",
    "tfidf = TfidfVectorizer( max_df=0.7)\n"
   ]
  },
  {
   "cell_type": "code",
   "execution_count": 22,
   "metadata": {},
   "outputs": [
    {
     "data": {
      "text/plain": [
       "(16640, 4)"
      ]
     },
     "execution_count": 22,
     "metadata": {},
     "output_type": "execute_result"
    }
   ],
   "source": [
    "X_train.shape"
   ]
  },
  {
   "cell_type": "code",
   "execution_count": 24,
   "metadata": {},
   "outputs": [
    {
     "data": {
      "text/html": [
       "<div>\n",
       "<style scoped>\n",
       "    .dataframe tbody tr th:only-of-type {\n",
       "        vertical-align: middle;\n",
       "    }\n",
       "\n",
       "    .dataframe tbody tr th {\n",
       "        vertical-align: top;\n",
       "    }\n",
       "\n",
       "    .dataframe thead th {\n",
       "        text-align: right;\n",
       "    }\n",
       "</style>\n",
       "<table border=\"1\" class=\"dataframe\">\n",
       "  <thead>\n",
       "    <tr style=\"text-align: right;\">\n",
       "      <th></th>\n",
       "      <th>id</th>\n",
       "      <th>title</th>\n",
       "      <th>author</th>\n",
       "      <th>text</th>\n",
       "    </tr>\n",
       "  </thead>\n",
       "  <tbody>\n",
       "    <tr>\n",
       "      <th>5933</th>\n",
       "      <td>5933</td>\n",
       "      <td>raccoon central park draw crowd warning stay a...</td>\n",
       "      <td>Sarah Maslin Nir</td>\n",
       "      <td>Like a little crew of   bandits, the first few...</td>\n",
       "    </tr>\n",
       "    <tr>\n",
       "      <th>9646</th>\n",
       "      <td>9646</td>\n",
       "      <td>bolton susan rice scandal obama need asked kne...</td>\n",
       "      <td>John Hayward</td>\n",
       "      <td>On Thursday’s Breitbart News Daily, SiriusXM h...</td>\n",
       "    </tr>\n",
       "    <tr>\n",
       "      <th>8642</th>\n",
       "      <td>8642</td>\n",
       "      <td>hillary clinton charged obstruction justice co...</td>\n",
       "      <td>Iron Sheik</td>\n",
       "      <td>Home › POLITICS › IF HILLARY CLINTON IS CHARGE...</td>\n",
       "    </tr>\n",
       "    <tr>\n",
       "      <th>15126</th>\n",
       "      <td>15126</td>\n",
       "      <td>new york time ’ moscow bureau targeted hacker ...</td>\n",
       "      <td>Nicole Perlroth and David E. Sanger</td>\n",
       "      <td>The New York Times’s Moscow bureau was the tar...</td>\n",
       "    </tr>\n",
       "    <tr>\n",
       "      <th>3410</th>\n",
       "      <td>3410</td>\n",
       "      <td>gay sharia march branded ’ islamophobic ’ pick...</td>\n",
       "      <td>Donna Rachel Edmunds</td>\n",
       "      <td>An event organised by Gays Against Sharia to m...</td>\n",
       "    </tr>\n",
       "    <tr>\n",
       "      <th>...</th>\n",
       "      <td>...</td>\n",
       "      <td>...</td>\n",
       "      <td>...</td>\n",
       "      <td>...</td>\n",
       "    </tr>\n",
       "    <tr>\n",
       "      <th>11284</th>\n",
       "      <td>11284</td>\n",
       "      <td>trump supporter got nut msnbc reporter coverin...</td>\n",
       "      <td>EdJenner</td>\n",
       "      <td>Go to Article A Trump supporter wearing a Trum...</td>\n",
       "    </tr>\n",
       "    <tr>\n",
       "      <th>11964</th>\n",
       "      <td>11964</td>\n",
       "      <td>watch megyn kelly almost cry air trump took le...</td>\n",
       "      <td>Shepard Ambellas</td>\n",
       "      <td>Watch Megyn Kelly almost cry on air when Trump...</td>\n",
       "    </tr>\n",
       "    <tr>\n",
       "      <th>5390</th>\n",
       "      <td>5390</td>\n",
       "      <td>pay college le stress new york time</td>\n",
       "      <td>Ron Lieber</td>\n",
       "      <td>In this our quadrennial season of financial ho...</td>\n",
       "    </tr>\n",
       "    <tr>\n",
       "      <th>860</th>\n",
       "      <td>860</td>\n",
       "      <td>russian scientist track sea lion space</td>\n",
       "      <td>TASS</td>\n",
       "      <td>Russian scientists will track sea lions from s...</td>\n",
       "    </tr>\n",
       "    <tr>\n",
       "      <th>15795</th>\n",
       "      <td>15795</td>\n",
       "      <td>heseltine strangled dog part thatcher cabinet ...</td>\n",
       "      <td>NaN</td>\n",
       "      <td>Heseltine strangled dog as part of Thatcher ca...</td>\n",
       "    </tr>\n",
       "  </tbody>\n",
       "</table>\n",
       "<p>16640 rows × 4 columns</p>\n",
       "</div>"
      ],
      "text/plain": [
       "          id                                              title  \\\n",
       "5933    5933  raccoon central park draw crowd warning stay a...   \n",
       "9646    9646  bolton susan rice scandal obama need asked kne...   \n",
       "8642    8642  hillary clinton charged obstruction justice co...   \n",
       "15126  15126  new york time ’ moscow bureau targeted hacker ...   \n",
       "3410    3410  gay sharia march branded ’ islamophobic ’ pick...   \n",
       "...      ...                                                ...   \n",
       "11284  11284  trump supporter got nut msnbc reporter coverin...   \n",
       "11964  11964  watch megyn kelly almost cry air trump took le...   \n",
       "5390    5390                pay college le stress new york time   \n",
       "860      860             russian scientist track sea lion space   \n",
       "15795  15795  heseltine strangled dog part thatcher cabinet ...   \n",
       "\n",
       "                                    author  \\\n",
       "5933                      Sarah Maslin Nir   \n",
       "9646                          John Hayward   \n",
       "8642                            Iron Sheik   \n",
       "15126  Nicole Perlroth and David E. Sanger   \n",
       "3410                  Donna Rachel Edmunds   \n",
       "...                                    ...   \n",
       "11284                             EdJenner   \n",
       "11964                     Shepard Ambellas   \n",
       "5390                            Ron Lieber   \n",
       "860                                   TASS   \n",
       "15795                                  NaN   \n",
       "\n",
       "                                                    text  \n",
       "5933   Like a little crew of   bandits, the first few...  \n",
       "9646   On Thursday’s Breitbart News Daily, SiriusXM h...  \n",
       "8642   Home › POLITICS › IF HILLARY CLINTON IS CHARGE...  \n",
       "15126  The New York Times’s Moscow bureau was the tar...  \n",
       "3410   An event organised by Gays Against Sharia to m...  \n",
       "...                                                  ...  \n",
       "11284  Go to Article A Trump supporter wearing a Trum...  \n",
       "11964  Watch Megyn Kelly almost cry on air when Trump...  \n",
       "5390   In this our quadrennial season of financial ho...  \n",
       "860    Russian scientists will track sea lions from s...  \n",
       "15795  Heseltine strangled dog as part of Thatcher ca...  \n",
       "\n",
       "[16640 rows x 4 columns]"
      ]
     },
     "execution_count": 24,
     "metadata": {},
     "output_type": "execute_result"
    }
   ],
   "source": [
    "X_train"
   ]
  },
  {
   "cell_type": "code",
   "execution_count": 25,
   "metadata": {},
   "outputs": [],
   "source": [
    "x=tfidf.fit_transform(X_train['title'])\n"
   ]
  },
  {
   "cell_type": "markdown",
   "metadata": {},
   "source": [
    "We use Decision TreeClassifer for that because descion bounday is on the basis on individual work.We can try differt model to such as SVM,Logestic,ANN etc."
   ]
  },
  {
   "cell_type": "code",
   "execution_count": 26,
   "metadata": {},
   "outputs": [],
   "source": [
    "from sklearn.tree import DecisionTreeClassifier"
   ]
  },
  {
   "cell_type": "code",
   "execution_count": 27,
   "metadata": {},
   "outputs": [],
   "source": [
    "test_enc=tfidf.transform(X_test['title'])"
   ]
  },
  {
   "cell_type": "code",
   "execution_count": 30,
   "metadata": {},
   "outputs": [],
   "source": [
    "rest=pac.predict(test_enc)"
   ]
  },
  {
   "cell_type": "code",
   "execution_count": 269,
   "metadata": {},
   "outputs": [
    {
     "name": "stdout",
     "output_type": "stream",
     "text": [
      "[[1933  199]\n",
      " [ 152 1876]]\n"
     ]
    }
   ],
   "source": [
    "dcx=DecisionTreeClassifier()#max_iter=80)\n",
    "dcx.fit(x,y_train)\n",
    "rest1=dcx.predict(test_enc)\n",
    "from sklearn.metrics import confusion_matrix\n",
    "cm = confusion_matrix(list(y_test), rest1)\n",
    "print(cm)"
   ]
  },
  {
   "cell_type": "markdown",
   "metadata": {},
   "source": [
    "Below we assign each aurthor with probalsatic score and on the basic of the score modeling done"
   ]
  },
  {
   "cell_type": "code",
   "execution_count": 99,
   "metadata": {},
   "outputs": [],
   "source": [
    "ovdf=pd.concat([X_train,y_train],axis=1)"
   ]
  },
  {
   "cell_type": "code",
   "execution_count": 100,
   "metadata": {},
   "outputs": [
    {
     "data": {
      "text/plain": [
       "1    8385\n",
       "0    8255\n",
       "Name: label, dtype: int64"
      ]
     },
     "execution_count": 100,
     "metadata": {},
     "output_type": "execute_result"
    }
   ],
   "source": [
    "ovdf['label'].value_counts()"
   ]
  },
  {
   "cell_type": "code",
   "execution_count": 114,
   "metadata": {},
   "outputs": [],
   "source": [
    "dic_map_author={}\n",
    "ovdf['author']=ovdf['author'].astype(str)\n",
    "for i in ovdf['author'].unique():\n",
    "    dic_map_author[i]=ovdf.loc[((ovdf['author']==i) & (ovdf['label']==0))].shape[0]/ovdf.loc[(ovdf['author']==i)].shape[0]"
   ]
  },
  {
   "cell_type": "code",
   "execution_count": 121,
   "metadata": {},
   "outputs": [],
   "source": [
    "\n",
    "file_to_write = open(\"dic_aurthor_map.pickle\", \"wb\")\n",
    "\n",
    "pickle.dump(dic_map_author, file_to_write)\n"
   ]
  },
  {
   "cell_type": "markdown",
   "metadata": {},
   "source": [
    "The Aurthor Map function is use to encode the aurthor name into probability form with preloaded dictonary if not there then assign zero by default"
   ]
  },
  {
   "cell_type": "code",
   "execution_count": 38,
   "metadata": {},
   "outputs": [],
   "source": [
    "import pickle"
   ]
  },
  {
   "cell_type": "code",
   "execution_count": 72,
   "metadata": {},
   "outputs": [],
   "source": [
    "def author_map(df):\n",
    "    fil_pickl=open(\"dic_aurthor_map.pickle\",\"rb\")\n",
    "#pickle.open  fil_pickl\n",
    "    dic_author=pickle.load(fil_pickl)\n",
    "    map_dic=df['author'].map(dic_author)\n",
    "    dict_va=pd.DataFrame()\n",
    "    dict_va['auth']=map_dic\n",
    "    dict_va['auth']=dict_va['auth'].fillna(0)\n",
    "    return dict_va\n"
   ]
  },
  {
   "cell_type": "code",
   "execution_count": 151,
   "metadata": {},
   "outputs": [],
   "source": [
    "#y_train"
   ]
  },
  {
   "cell_type": "code",
   "execution_count": 50,
   "metadata": {},
   "outputs": [],
   "source": [
    "from sklearn.naive_bayes import MultinomialNB"
   ]
  },
  {
   "cell_type": "code",
   "execution_count": 56,
   "metadata": {},
   "outputs": [],
   "source": [
    "from sklearn.naive_bayes import GaussianNB"
   ]
  },
  {
   "cell_type": "code",
   "execution_count": 57,
   "metadata": {},
   "outputs": [],
   "source": [
    "bnb=GaussianNB()"
   ]
  },
  {
   "cell_type": "code",
   "execution_count": 63,
   "metadata": {},
   "outputs": [],
   "source": [
    "aurth=author_map(X_train)"
   ]
  },
  {
   "cell_type": "code",
   "execution_count": 68,
   "metadata": {},
   "outputs": [
    {
     "data": {
      "text/plain": [
       "GaussianNB()"
      ]
     },
     "execution_count": 68,
     "metadata": {},
     "output_type": "execute_result"
    }
   ],
   "source": [
    "bnb.fit(aurth,y_train)"
   ]
  },
  {
   "cell_type": "code",
   "execution_count": 73,
   "metadata": {},
   "outputs": [],
   "source": [
    "aurth=author_map(X_test)"
   ]
  },
  {
   "cell_type": "code",
   "execution_count": 75,
   "metadata": {},
   "outputs": [],
   "source": [
    "rest=bnb.predict(aurth)"
   ]
  },
  {
   "cell_type": "code",
   "execution_count": 77,
   "metadata": {},
   "outputs": [
    {
     "name": "stdout",
     "output_type": "stream",
     "text": [
      "[[1824  308]\n",
      " [   4 2024]]\n"
     ]
    }
   ],
   "source": [
    "\n",
    "cm = confusion_matrix(list(y_test), rest)\n",
    "print(cm)"
   ]
  },
  {
   "cell_type": "code",
   "execution_count": 86,
   "metadata": {},
   "outputs": [],
   "source": [
    "from keras.preprocessing.text import Tokenizer\n",
    "from tensorflow.keras.layers import Embedding\n",
    "from tensorflow.keras.preprocessing.sequence import pad_sequences\n",
    "from tensorflow.keras.models import Sequential\n",
    "from tensorflow.keras.layers import LSTM\n",
    "from tensorflow.keras.layers import Dense\n",
    "from tensorflow.keras.layers import Dropout\n",
    "from keras.wrappers.scikit_learn import KerasClassifier\n",
    "from keras.callbacks import EarlyStopping\n",
    "from sklearn.model_selection import RandomizedSearchCV\n",
    "from keras.optimizers import Adam\n"
   ]
  },
  {
   "cell_type": "markdown",
   "metadata": {},
   "source": [
    "This final feature which was considered for modeling because its a long sequence of text we have to use Sequence to Sequnce Learning modelings.In this case we had used LSTM."
   ]
  },
  {
   "cell_type": "code",
   "execution_count": 110,
   "metadata": {},
   "outputs": [],
   "source": [
    "#from transformers import BertConfig, BertModel,BertTokenizer\n",
    "X_train['text']=X_train['text'].astype(str)\n",
    "X_train['text']=X_train['text'].apply(remove_Stopwords)\n",
    "X_train['text']=X_train['text'].apply(lemmatize_text)\n",
    "X_train['text']=X_train['text'].apply(clean_text)"
   ]
  },
  {
   "cell_type": "code",
   "execution_count": 111,
   "metadata": {},
   "outputs": [],
   "source": [
    "X_test['text']=X_test['text'].astype(str)\n",
    "X_test['text']=X_test['text'].apply(remove_Stopwords)\n",
    "X_test['text']=X_test['text'].apply(lemmatize_text)\n",
    "X_test['text']=X_test['text'].apply(clean_text)"
   ]
  },
  {
   "cell_type": "markdown",
   "metadata": {},
   "source": [
    "Here we tokenize and pad the text with text size"
   ]
  },
  {
   "cell_type": "code",
   "execution_count": 175,
   "metadata": {},
   "outputs": [],
   "source": [
    "sentence_length = 25\n",
    "tokenizer = Tokenizer()\n",
    "tokenizer.fit_on_texts(X_train['text'])\n",
    "df_train_total = tokenizer.texts_to_sequences(X_train['text'])\n",
    "df_train_total = pad_sequences(df_train_total,maxlen = sentence_length)\n",
    "df_test_total = tokenizer.texts_to_sequences(X_test['text'])\n",
    "df_test_total = pad_sequences(df_test_total,maxlen = sentence_length)\n"
   ]
  },
  {
   "cell_type": "code",
   "execution_count": 119,
   "metadata": {},
   "outputs": [
    {
     "name": "stdout",
     "output_type": "stream",
     "text": [
      "16640\n",
      "(16640, 4)\n"
     ]
    }
   ],
   "source": [
    "print(len(df_train_total))\n",
    "print(X_train.shape)"
   ]
  },
  {
   "cell_type": "code",
   "execution_count": 223,
   "metadata": {},
   "outputs": [],
   "source": [
    "model.reset_states()"
   ]
  },
  {
   "cell_type": "markdown",
   "metadata": {},
   "source": [
    "Here we Use the model Embedding ,LSTM,Dense Layer to solve this problem the activation function which we had use is tanh in between the reason why because it can handle large sequence in  a go"
   ]
  },
  {
   "cell_type": "code",
   "execution_count": 224,
   "metadata": {},
   "outputs": [],
   "source": [
    "opt = Adam(lr = 0.01)\n",
    "embedding_vector_features=40\n",
    "model = Sequential()\n",
    "model.add(Embedding(1000000,embedding_vector_features,input_length=sentence_length))\n",
    "model.add(Dropout(0.3))\n",
    "model.add(LSTM(100))\n",
    "model.add(Dropout(0.2))\n",
    "model.add(Dense(64,activation='tanh'))\n",
    "model.add(Dropout(0.1))\n",
    "model.add(Dense(1,activation='sigmoid'))\n",
    "model.compile(loss='binary_crossentropy',optimizer=opt ,metrics=['accuracy'])\n",
    "    \n"
   ]
  },
  {
   "cell_type": "code",
   "execution_count": 225,
   "metadata": {},
   "outputs": [
    {
     "name": "stdout",
     "output_type": "stream",
     "text": [
      "Model: \"sequential_21\"\n",
      "_________________________________________________________________\n",
      "Layer (type)                 Output Shape              Param #   \n",
      "=================================================================\n",
      "embedding_21 (Embedding)     (None, 25, 40)            40000000  \n",
      "_________________________________________________________________\n",
      "dropout_63 (Dropout)         (None, 25, 40)            0         \n",
      "_________________________________________________________________\n",
      "lstm_21 (LSTM)               (None, 100)               56400     \n",
      "_________________________________________________________________\n",
      "dropout_64 (Dropout)         (None, 100)               0         \n",
      "_________________________________________________________________\n",
      "dense_42 (Dense)             (None, 64)                6464      \n",
      "_________________________________________________________________\n",
      "dropout_65 (Dropout)         (None, 64)                0         \n",
      "_________________________________________________________________\n",
      "dense_43 (Dense)             (None, 1)                 65        \n",
      "=================================================================\n",
      "Total params: 40,062,929\n",
      "Trainable params: 40,062,929\n",
      "Non-trainable params: 0\n",
      "_________________________________________________________________\n"
     ]
    }
   ],
   "source": [
    "model.summary()"
   ]
  },
  {
   "cell_type": "code",
   "execution_count": 234,
   "metadata": {},
   "outputs": [
    {
     "data": {
      "text/plain": [
       "744"
      ]
     },
     "execution_count": 234,
     "metadata": {},
     "output_type": "execute_result"
    }
   ],
   "source": [
    "#del df_train_total\n",
    "import gc\n",
    "gc.collect()"
   ]
  },
  {
   "cell_type": "code",
   "execution_count": 228,
   "metadata": {},
   "outputs": [
    {
     "name": "stdout",
     "output_type": "stream",
     "text": [
      "Model: \"sequential_21\"\n",
      "_________________________________________________________________\n",
      "Layer (type)                 Output Shape              Param #   \n",
      "=================================================================\n",
      "embedding_21 (Embedding)     (None, 25, 40)            40000000  \n",
      "_________________________________________________________________\n",
      "dropout_63 (Dropout)         (None, 25, 40)            0         \n",
      "_________________________________________________________________\n",
      "lstm_21 (LSTM)               (None, 100)               56400     \n",
      "_________________________________________________________________\n",
      "dropout_64 (Dropout)         (None, 100)               0         \n",
      "_________________________________________________________________\n",
      "dense_42 (Dense)             (None, 64)                6464      \n",
      "_________________________________________________________________\n",
      "dropout_65 (Dropout)         (None, 64)                0         \n",
      "_________________________________________________________________\n",
      "dense_43 (Dense)             (None, 1)                 65        \n",
      "=================================================================\n",
      "Total params: 40,062,929\n",
      "Trainable params: 40,062,929\n",
      "Non-trainable params: 0\n",
      "_________________________________________________________________\n"
     ]
    }
   ],
   "source": [
    "model.summary()\n"
   ]
  },
  {
   "cell_type": "code",
   "execution_count": 229,
   "metadata": {},
   "outputs": [
    {
     "name": "stdout",
     "output_type": "stream",
     "text": [
      "WARNING:tensorflow:`period` argument is deprecated. Please use `save_freq` to specify the frequency in number of batches seen.\n"
     ]
    }
   ],
   "source": [
    "from keras.callbacks import ModelCheckpoint\n",
    "\n",
    "checkpoint = ModelCheckpoint(\"model_weight1.hdf5\", monitor='loss', verbose=1,\n",
    "    save_best_only=True, mode='auto', period=1)"
   ]
  },
  {
   "cell_type": "markdown",
   "metadata": {},
   "source": [
    "There is total 50 epochs that we had run for this problem"
   ]
  },
  {
   "cell_type": "code",
   "execution_count": 230,
   "metadata": {},
   "outputs": [
    {
     "name": "stdout",
     "output_type": "stream",
     "text": [
      "Epoch 1/50\n",
      "260/260 [==============================] - 96s 365ms/step - loss: 0.3673 - accuracy: 0.8212\n",
      "\n",
      "Epoch 00001: loss improved from inf to 0.29489, saving model to model_weight1.hdf5\n",
      "Epoch 2/50\n",
      "260/260 [==============================] - 97s 375ms/step - loss: 0.0963 - accuracy: 0.9665\n",
      "\n",
      "Epoch 00002: loss improved from 0.29489 to 0.10124, saving model to model_weight1.hdf5\n",
      "Epoch 3/50\n",
      "260/260 [==============================] - 101s 387ms/step - loss: 0.0391 - accuracy: 0.9881\n",
      "\n",
      "Epoch 00003: loss improved from 0.10124 to 0.04186, saving model to model_weight1.hdf5\n",
      "Epoch 4/50\n",
      "260/260 [==============================] - 97s 373ms/step - loss: 0.0170 - accuracy: 0.9938\n",
      "\n",
      "Epoch 00004: loss improved from 0.04186 to 0.02062, saving model to model_weight1.hdf5\n",
      "Epoch 5/50\n",
      "260/260 [==============================] - 97s 373ms/step - loss: 0.0134 - accuracy: 0.9962\n",
      "\n",
      "Epoch 00005: loss improved from 0.02062 to 0.01734, saving model to model_weight1.hdf5\n",
      "Epoch 6/50\n",
      "260/260 [==============================] - 97s 372ms/step - loss: 0.0128 - accuracy: 0.9961\n",
      "\n",
      "Epoch 00006: loss improved from 0.01734 to 0.01419, saving model to model_weight1.hdf5\n",
      "Epoch 7/50\n",
      "260/260 [==============================] - 97s 372ms/step - loss: 0.0092 - accuracy: 0.9974\n",
      "\n",
      "Epoch 00007: loss improved from 0.01419 to 0.00958, saving model to model_weight1.hdf5\n",
      "Epoch 8/50\n",
      "260/260 [==============================] - 97s 373ms/step - loss: 0.0074 - accuracy: 0.9976\n",
      "\n",
      "Epoch 00008: loss did not improve from 0.00958\n",
      "Epoch 9/50\n",
      "260/260 [==============================] - 97s 374ms/step - loss: 0.0078 - accuracy: 0.9977\n",
      "\n",
      "Epoch 00009: loss improved from 0.00958 to 0.00940, saving model to model_weight1.hdf5\n",
      "Epoch 10/50\n",
      "260/260 [==============================] - 99s 380ms/step - loss: 0.0106 - accuracy: 0.9970\n",
      "\n",
      "Epoch 00010: loss improved from 0.00940 to 0.00791, saving model to model_weight1.hdf5\n",
      "Epoch 11/50\n",
      "260/260 [==============================] - 99s 379ms/step - loss: 0.0067 - accuracy: 0.9984\n",
      "\n",
      "Epoch 00011: loss improved from 0.00791 to 0.00735, saving model to model_weight1.hdf5\n",
      "Epoch 12/50\n",
      "260/260 [==============================] - 104s 401ms/step - loss: 0.0062 - accuracy: 0.9985\n",
      "\n",
      "Epoch 00012: loss improved from 0.00735 to 0.00584, saving model to model_weight1.hdf5\n",
      "Epoch 13/50\n",
      "260/260 [==============================] - 105s 402ms/step - loss: 0.0071 - accuracy: 0.9975\n",
      "\n",
      "Epoch 00013: loss did not improve from 0.00584\n",
      "Epoch 14/50\n",
      "260/260 [==============================] - 102s 390ms/step - loss: 0.0075 - accuracy: 0.9981\n",
      "\n",
      "Epoch 00014: loss did not improve from 0.00584\n",
      "Epoch 15/50\n",
      "260/260 [==============================] - 100s 385ms/step - loss: 0.0047 - accuracy: 0.9987\n",
      "\n",
      "Epoch 00015: loss improved from 0.00584 to 0.00543, saving model to model_weight1.hdf5\n",
      "Epoch 16/50\n",
      "260/260 [==============================] - 105s 404ms/step - loss: 0.0077 - accuracy: 0.9980\n",
      "\n",
      "Epoch 00016: loss did not improve from 0.00543\n",
      "Epoch 17/50\n",
      "260/260 [==============================] - 105s 403ms/step - loss: 0.0029 - accuracy: 0.9992\n",
      "\n",
      "Epoch 00017: loss improved from 0.00543 to 0.00383, saving model to model_weight1.hdf5\n",
      "Epoch 18/50\n",
      "260/260 [==============================] - 104s 399ms/step - loss: 0.0048 - accuracy: 0.9986\n",
      "\n",
      "Epoch 00018: loss did not improve from 0.00383\n",
      "Epoch 19/50\n",
      "260/260 [==============================] - 99s 381ms/step - loss: 0.0114 - accuracy: 0.9969\n",
      "\n",
      "Epoch 00019: loss did not improve from 0.00383\n",
      "Epoch 20/50\n",
      "260/260 [==============================] - 101s 388ms/step - loss: 0.0041 - accuracy: 0.9984\n",
      "\n",
      "Epoch 00020: loss did not improve from 0.00383\n",
      "Epoch 21/50\n",
      "260/260 [==============================] - 98s 377ms/step - loss: 0.0059 - accuracy: 0.9978\n",
      "\n",
      "Epoch 00021: loss did not improve from 0.00383\n",
      "Epoch 22/50\n",
      "260/260 [==============================] - 97s 374ms/step - loss: 0.0046 - accuracy: 0.9988\n",
      "\n",
      "Epoch 00022: loss did not improve from 0.00383\n",
      "Epoch 23/50\n",
      "260/260 [==============================] - 97s 373ms/step - loss: 0.0027 - accuracy: 0.9992\n",
      "\n",
      "Epoch 00023: loss did not improve from 0.00383\n",
      "Epoch 24/50\n",
      "260/260 [==============================] - 100s 386ms/step - loss: 0.0030 - accuracy: 0.9994\n",
      "\n",
      "Epoch 00024: loss improved from 0.00383 to 0.00375, saving model to model_weight1.hdf5\n",
      "Epoch 25/50\n",
      "260/260 [==============================] - 97s 374ms/step - loss: 0.0042 - accuracy: 0.9989\n",
      "\n",
      "Epoch 00025: loss did not improve from 0.00375\n",
      "Epoch 26/50\n",
      "260/260 [==============================] - 98s 376ms/step - loss: 0.0043 - accuracy: 0.9988\n",
      "\n",
      "Epoch 00026: loss did not improve from 0.00375\n",
      "Epoch 27/50\n",
      "260/260 [==============================] - 98s 378ms/step - loss: 0.0043 - accuracy: 0.9990\n",
      "\n",
      "Epoch 00027: loss did not improve from 0.00375\n",
      "Epoch 28/50\n",
      "260/260 [==============================] - 97s 373ms/step - loss: 0.0050 - accuracy: 0.9984\n",
      "\n",
      "Epoch 00028: loss did not improve from 0.00375\n",
      "Epoch 29/50\n",
      "260/260 [==============================] - 97s 374ms/step - loss: 0.0040 - accuracy: 0.9989\n",
      "\n",
      "Epoch 00029: loss did not improve from 0.00375\n",
      "Epoch 30/50\n",
      "260/260 [==============================] - 99s 381ms/step - loss: 0.0087 - accuracy: 0.9978\n",
      "\n",
      "Epoch 00030: loss did not improve from 0.00375\n",
      "Epoch 31/50\n",
      "260/260 [==============================] - 97s 374ms/step - loss: 0.0071 - accuracy: 0.9981\n",
      "\n",
      "Epoch 00031: loss did not improve from 0.00375\n",
      "Epoch 32/50\n",
      "260/260 [==============================] - 97s 373ms/step - loss: 0.0055 - accuracy: 0.9983\n",
      "\n",
      "Epoch 00032: loss did not improve from 0.00375\n",
      "Epoch 33/50\n",
      "260/260 [==============================] - 97s 372ms/step - loss: 0.0065 - accuracy: 0.9985\n",
      "\n",
      "Epoch 00033: loss did not improve from 0.00375\n",
      "Epoch 34/50\n",
      "260/260 [==============================] - 97s 374ms/step - loss: 0.0061 - accuracy: 0.9979\n",
      "\n",
      "Epoch 00034: loss did not improve from 0.00375\n",
      "Epoch 35/50\n",
      "260/260 [==============================] - 97s 373ms/step - loss: 0.0056 - accuracy: 0.9984\n",
      "\n",
      "Epoch 00035: loss did not improve from 0.00375\n",
      "Epoch 36/50\n",
      "260/260 [==============================] - 97s 373ms/step - loss: 0.0087 - accuracy: 0.9979\n",
      "\n",
      "Epoch 00036: loss did not improve from 0.00375\n",
      "Epoch 37/50\n",
      "260/260 [==============================] - 97s 373ms/step - loss: 0.0061 - accuracy: 0.9985\n",
      "\n",
      "Epoch 00037: loss did not improve from 0.00375\n",
      "Epoch 38/50\n",
      "260/260 [==============================] - 97s 374ms/step - loss: 0.0068 - accuracy: 0.9985\n",
      "\n",
      "Epoch 00038: loss did not improve from 0.00375\n",
      "Epoch 39/50\n",
      "260/260 [==============================] - 97s 374ms/step - loss: 0.0081 - accuracy: 0.9976\n",
      "\n",
      "Epoch 00039: loss did not improve from 0.00375\n",
      "Epoch 40/50\n",
      "260/260 [==============================] - 96s 368ms/step - loss: 0.0053 - accuracy: 0.9988\n",
      "\n",
      "Epoch 00040: loss did not improve from 0.00375\n",
      "Epoch 41/50\n",
      "260/260 [==============================] - 96s 368ms/step - loss: 0.0060 - accuracy: 0.9986\n",
      "\n",
      "Epoch 00041: loss did not improve from 0.00375\n",
      "Epoch 42/50\n",
      "260/260 [==============================] - 95s 367ms/step - loss: 0.0037 - accuracy: 0.9990\n",
      "\n",
      "Epoch 00042: loss did not improve from 0.00375\n",
      "Epoch 43/50\n",
      "260/260 [==============================] - 95s 366ms/step - loss: 0.0071 - accuracy: 0.9980\n",
      "\n",
      "Epoch 00043: loss did not improve from 0.00375\n",
      "Epoch 44/50\n",
      "260/260 [==============================] - 95s 367ms/step - loss: 0.0077 - accuracy: 0.9978\n",
      "\n",
      "Epoch 00044: loss did not improve from 0.00375\n",
      "Epoch 45/50\n",
      "260/260 [==============================] - 104s 401ms/step - loss: 0.0075 - accuracy: 0.9983\n",
      "\n",
      "Epoch 00045: loss did not improve from 0.00375\n",
      "Epoch 46/50\n",
      "260/260 [==============================] - 99s 382ms/step - loss: 0.0044 - accuracy: 0.9987\n",
      "\n",
      "Epoch 00046: loss did not improve from 0.00375\n",
      "Epoch 47/50\n",
      "260/260 [==============================] - 100s 386ms/step - loss: 0.0039 - accuracy: 0.9993\n",
      "\n",
      "Epoch 00047: loss did not improve from 0.00375\n",
      "Epoch 48/50\n",
      "260/260 [==============================] - 98s 379ms/step - loss: 0.0068 - accuracy: 0.9983\n",
      "\n",
      "Epoch 00048: loss did not improve from 0.00375\n",
      "Epoch 49/50\n",
      "260/260 [==============================] - 99s 381ms/step - loss: 0.0086 - accuracy: 0.9969\n",
      "\n",
      "Epoch 00049: loss did not improve from 0.00375\n",
      "Epoch 50/50\n",
      "260/260 [==============================] - 99s 381ms/step - loss: 0.0069 - accuracy: 0.9984\n",
      "\n",
      "Epoch 00050: loss did not improve from 0.00375\n"
     ]
    },
    {
     "data": {
      "text/plain": [
       "<tensorflow.python.keras.callbacks.History at 0x7f3c6ebfc640>"
      ]
     },
     "execution_count": 230,
     "metadata": {},
     "output_type": "execute_result"
    }
   ],
   "source": [
    "model.fit(df_train_total,y_train,epochs=50,batch_size=64,callbacks=[checkpoint])"
   ]
  },
  {
   "cell_type": "code",
   "execution_count": null,
   "metadata": {},
   "outputs": [],
   "source": [
    "model.fit(df_train_total, y_train,\n",
    "          batch_size=64,\n",
    "          epochs=50,\n",
    "          callbacks=[checkpoint])\n"
   ]
  },
  {
   "cell_type": "code",
   "execution_count": 215,
   "metadata": {},
   "outputs": [],
   "source": [
    "model.save(\"text_model.h5\")"
   ]
  },
  {
   "cell_type": "code",
   "execution_count": 243,
   "metadata": {},
   "outputs": [],
   "source": [
    "def model_vote(dl_model,bnb,dcx,test_comp1,test_comp2,test_comp3):\n",
    "    preds = [1 if x > 0.5 else 0 for x in dl_model.predict(test_comp1)]\n",
    "    preds2 = bnb.predict(test_comp2)\n",
    "    preds3=dcx.predict(test_comp3)\n",
    "    return preds,preds2,preds3\n",
    "    "
   ]
  },
  {
   "cell_type": "code",
   "execution_count": 245,
   "metadata": {},
   "outputs": [],
   "source": [
    "aurth=author_map(X_test)"
   ]
  },
  {
   "cell_type": "code",
   "execution_count": 254,
   "metadata": {},
   "outputs": [],
   "source": [
    "p1,p2,p3=model_vote(model,bnb,dcx,df_test_total,aurth,test_enc)"
   ]
  },
  {
   "cell_type": "code",
   "execution_count": 255,
   "metadata": {},
   "outputs": [
    {
     "name": "stdout",
     "output_type": "stream",
     "text": [
      "[[1906  226]\n",
      " [ 285 1743]]\n"
     ]
    }
   ],
   "source": [
    "cm = confusion_matrix(list(y_test), p1)\n",
    "print(cm)"
   ]
  },
  {
   "cell_type": "code",
   "execution_count": 256,
   "metadata": {},
   "outputs": [
    {
     "name": "stdout",
     "output_type": "stream",
     "text": [
      "[[1824  308]\n",
      " [   4 2024]]\n"
     ]
    }
   ],
   "source": [
    "cm = confusion_matrix(list(y_test), p2)\n",
    "print(cm)"
   ]
  },
  {
   "cell_type": "code",
   "execution_count": 253,
   "metadata": {},
   "outputs": [
    {
     "data": {
      "text/plain": [
       "array([0, 0, 1, ..., 0, 1, 1])"
      ]
     },
     "execution_count": 253,
     "metadata": {},
     "output_type": "execute_result"
    }
   ],
   "source": [
    "p3"
   ]
  },
  {
   "cell_type": "code",
   "execution_count": 257,
   "metadata": {},
   "outputs": [
    {
     "name": "stdout",
     "output_type": "stream",
     "text": [
      "[[1936  196]\n",
      " [ 144 1884]]\n"
     ]
    }
   ],
   "source": [
    "cm = confusion_matrix(list(y_test), p3)\n",
    "print(cm)\n"
   ]
  },
  {
   "cell_type": "markdown",
   "metadata": {},
   "source": [
    "Now we with help of all three model we train an Decision Tree Classifier on top of that to find the final result"
   ]
  },
  {
   "cell_type": "code",
   "execution_count": 258,
   "metadata": {},
   "outputs": [],
   "source": [
    "rest_frame=pd.DataFrame()"
   ]
  },
  {
   "cell_type": "code",
   "execution_count": 262,
   "metadata": {},
   "outputs": [],
   "source": [
    "rest_frame['DL_Text']=p1\n",
    "rest_frame['Probabilistic_Aurthor']=p2\n",
    "rest_frame['Descion Tree Title']=p3\n",
    "rest_frame['Label']=list(y_test)"
   ]
  },
  {
   "cell_type": "code",
   "execution_count": 271,
   "metadata": {},
   "outputs": [
    {
     "data": {
      "text/plain": [
       "DecisionTreeClassifier()"
      ]
     },
     "execution_count": 271,
     "metadata": {},
     "output_type": "execute_result"
    }
   ],
   "source": [
    "dct=DecisionTreeClassifier()#max_iter=80)\n",
    "dct.fit(rest_frame.drop(columns=\"Label\"),rest_frame['Label'])"
   ]
  },
  {
   "cell_type": "code",
   "execution_count": 272,
   "metadata": {},
   "outputs": [
    {
     "data": {
      "text/plain": [
       "array([[2099,   33],\n",
       "       [  33, 1995]])"
      ]
     },
     "execution_count": 272,
     "metadata": {},
     "output_type": "execute_result"
    }
   ],
   "source": [
    "confusion_matrix(list(y_test), dct.predict(rest_frame.drop(columns=\"Label\")))"
   ]
  },
  {
   "cell_type": "code",
   "execution_count": 235,
   "metadata": {},
   "outputs": [],
   "source": [
    "preds=model.predict(df_test_total)"
   ]
  },
  {
   "cell_type": "markdown",
   "metadata": {},
   "source": [
    "Submit.csv File Preparation"
   ]
  },
  {
   "cell_type": "code",
   "execution_count": 273,
   "metadata": {},
   "outputs": [],
   "source": [
    "test_df['title']=test_df['title'].astype(str)\n",
    "test_df['title']=test_df['title'].apply(remove_Stopwords)\n",
    "test_df['title']=test_df['title'].apply(lemmatize_text)\n",
    "test_df['title']=test_df['title'].apply(clean_text)"
   ]
  },
  {
   "cell_type": "code",
   "execution_count": 300,
   "metadata": {},
   "outputs": [],
   "source": [
    "test_enc_submit=tfidf.transform(test_df['title'])"
   ]
  },
  {
   "cell_type": "code",
   "execution_count": 301,
   "metadata": {},
   "outputs": [],
   "source": [
    "#test_enc_submit"
   ]
  },
  {
   "cell_type": "code",
   "execution_count": 277,
   "metadata": {},
   "outputs": [],
   "source": [
    "test_enc_submit_title=dcx.predict(test_enc_submit)"
   ]
  },
  {
   "cell_type": "code",
   "execution_count": 279,
   "metadata": {},
   "outputs": [],
   "source": [
    "aurth_test_submit=author_map(test_df)"
   ]
  },
  {
   "cell_type": "code",
   "execution_count": 282,
   "metadata": {},
   "outputs": [],
   "source": [
    "#aurth_test_submit\n",
    "aurth_test_submit_res=bnb.predict(aurth_test_submit)"
   ]
  },
  {
   "cell_type": "code",
   "execution_count": 284,
   "metadata": {},
   "outputs": [],
   "source": [
    "#aurth_test_submit_res"
   ]
  },
  {
   "cell_type": "code",
   "execution_count": 236,
   "metadata": {},
   "outputs": [],
   "source": [
    "test_df['text']=test_df['text'].astype(str)\n",
    "test_df['text']=test_df['text'].apply(remove_Stopwords)\n",
    "test_df['text']=test_df['text'].apply(lemmatize_text)\n",
    "test_df['text']=test_df['text'].apply(clean_text)\n"
   ]
  },
  {
   "cell_type": "code",
   "execution_count": 285,
   "metadata": {},
   "outputs": [],
   "source": [
    "sentence_length = 25\n",
    "df_test_total_test_val = tokenizer.texts_to_sequences(test_df['text'])\n",
    "df_test_total_sub = pad_sequences(df_test_total_test_val,maxlen = sentence_length)\n"
   ]
  },
  {
   "cell_type": "code",
   "execution_count": 289,
   "metadata": {},
   "outputs": [
    {
     "data": {
      "text/plain": [
       "array([0, 1, 1, ..., 0, 1, 1])"
      ]
     },
     "execution_count": 289,
     "metadata": {},
     "output_type": "execute_result"
    }
   ],
   "source": [
    "aurth_test_submit_res"
   ]
  },
  {
   "cell_type": "code",
   "execution_count": 302,
   "metadata": {},
   "outputs": [],
   "source": [
    "p1,p2,p3=model_vote(model,bnb,dcx,df_test_total_sub,aurth_test_submit,test_enc_submit)"
   ]
  },
  {
   "cell_type": "code",
   "execution_count": 295,
   "metadata": {},
   "outputs": [
    {
     "data": {
      "text/plain": [
       "4160"
      ]
     },
     "execution_count": 295,
     "metadata": {},
     "output_type": "execute_result"
    }
   ],
   "source": [
    "len(p3)"
   ]
  },
  {
   "cell_type": "code",
   "execution_count": 303,
   "metadata": {},
   "outputs": [],
   "source": [
    "rest_frame2=pd.DataFrame()\n",
    "rest_frame2['DL_Text']=p1\n",
    "rest_frame2['Probabilistic_Aurthor']=p2\n",
    "rest_frame2['Descion Tree Title']=p3\n",
    "#rest_frame2['Label']=list(y_test)"
   ]
  },
  {
   "cell_type": "code",
   "execution_count": 307,
   "metadata": {},
   "outputs": [],
   "source": [
    "final_result=dct.predict(rest_frame2)"
   ]
  },
  {
   "cell_type": "code",
   "execution_count": 312,
   "metadata": {},
   "outputs": [],
   "source": [
    "#final_result"
   ]
  },
  {
   "cell_type": "code",
   "execution_count": 311,
   "metadata": {},
   "outputs": [],
   "source": [
    "test_df['Predicted_Label']=final_result"
   ]
  },
  {
   "cell_type": "code",
   "execution_count": 314,
   "metadata": {},
   "outputs": [],
   "source": [
    "submission=test_df[['id','Predicted_Label']]"
   ]
  },
  {
   "cell_type": "code",
   "execution_count": 315,
   "metadata": {},
   "outputs": [],
   "source": [
    "submission.to_csv(\"Final_Submission.csv\",index=False)"
   ]
  },
  {
   "cell_type": "code",
   "execution_count": 238,
   "metadata": {},
   "outputs": [
    {
     "name": "stdout",
     "output_type": "stream",
     "text": [
      "[[1906  226]\n",
      " [ 285 1743]]\n"
     ]
    }
   ],
   "source": [
    "\n",
    "cm = confusion_matrix(list(y_test), preds)\n",
    "print(cm)"
   ]
  }
 ],
 "metadata": {
  "kernelspec": {
   "display_name": "Python 3",
   "language": "python",
   "name": "python3"
  },
  "language_info": {
   "codemirror_mode": {
    "name": "ipython",
    "version": 3
   },
   "file_extension": ".py",
   "mimetype": "text/x-python",
   "name": "python",
   "nbconvert_exporter": "python",
   "pygments_lexer": "ipython3",
   "version": "3.8.10"
  }
 },
 "nbformat": 4,
 "nbformat_minor": 4
}
